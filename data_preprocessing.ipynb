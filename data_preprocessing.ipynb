{
 "cells": [
  {
   "cell_type": "code",
   "execution_count": 1,
   "id": "78310b43",
   "metadata": {},
   "outputs": [],
   "source": [
    "import numpy as np\n",
    "import pandas as pd\n",
    "import matplotlib.pyplot as plt\n",
    "import seaborn as sns"
   ]
  },
  {
   "cell_type": "code",
   "execution_count": 2,
   "id": "1ceddea8",
   "metadata": {},
   "outputs": [],
   "source": [
    "data = pd.read_csv('electronics.csv')"
   ]
  },
  {
   "cell_type": "code",
   "execution_count": 3,
   "id": "adc6e454",
   "metadata": {},
   "outputs": [
    {
     "data": {
      "text/html": [
       "<div>\n",
       "<style scoped>\n",
       "    .dataframe tbody tr th:only-of-type {\n",
       "        vertical-align: middle;\n",
       "    }\n",
       "\n",
       "    .dataframe tbody tr th {\n",
       "        vertical-align: top;\n",
       "    }\n",
       "\n",
       "    .dataframe thead th {\n",
       "        text-align: right;\n",
       "    }\n",
       "</style>\n",
       "<table border=\"1\" class=\"dataframe\">\n",
       "  <thead>\n",
       "    <tr style=\"text-align: right;\">\n",
       "      <th></th>\n",
       "      <th>item_id</th>\n",
       "      <th>user_id</th>\n",
       "      <th>rating</th>\n",
       "      <th>timestamp</th>\n",
       "      <th>model_attr</th>\n",
       "      <th>category</th>\n",
       "      <th>brand</th>\n",
       "      <th>year</th>\n",
       "      <th>user_attr</th>\n",
       "      <th>split</th>\n",
       "    </tr>\n",
       "  </thead>\n",
       "  <tbody>\n",
       "    <tr>\n",
       "      <th>0</th>\n",
       "      <td>0</td>\n",
       "      <td>0</td>\n",
       "      <td>5.0</td>\n",
       "      <td>1999-06-13</td>\n",
       "      <td>Female</td>\n",
       "      <td>Portable Audio &amp; Video</td>\n",
       "      <td>NaN</td>\n",
       "      <td>1999</td>\n",
       "      <td>NaN</td>\n",
       "      <td>0</td>\n",
       "    </tr>\n",
       "    <tr>\n",
       "      <th>1</th>\n",
       "      <td>0</td>\n",
       "      <td>1</td>\n",
       "      <td>5.0</td>\n",
       "      <td>1999-06-14</td>\n",
       "      <td>Female</td>\n",
       "      <td>Portable Audio &amp; Video</td>\n",
       "      <td>NaN</td>\n",
       "      <td>1999</td>\n",
       "      <td>NaN</td>\n",
       "      <td>0</td>\n",
       "    </tr>\n",
       "    <tr>\n",
       "      <th>2</th>\n",
       "      <td>0</td>\n",
       "      <td>2</td>\n",
       "      <td>3.0</td>\n",
       "      <td>1999-06-17</td>\n",
       "      <td>Female</td>\n",
       "      <td>Portable Audio &amp; Video</td>\n",
       "      <td>NaN</td>\n",
       "      <td>1999</td>\n",
       "      <td>NaN</td>\n",
       "      <td>0</td>\n",
       "    </tr>\n",
       "    <tr>\n",
       "      <th>3</th>\n",
       "      <td>0</td>\n",
       "      <td>3</td>\n",
       "      <td>1.0</td>\n",
       "      <td>1999-07-01</td>\n",
       "      <td>Female</td>\n",
       "      <td>Portable Audio &amp; Video</td>\n",
       "      <td>NaN</td>\n",
       "      <td>1999</td>\n",
       "      <td>NaN</td>\n",
       "      <td>0</td>\n",
       "    </tr>\n",
       "    <tr>\n",
       "      <th>4</th>\n",
       "      <td>0</td>\n",
       "      <td>4</td>\n",
       "      <td>2.0</td>\n",
       "      <td>1999-07-06</td>\n",
       "      <td>Female</td>\n",
       "      <td>Portable Audio &amp; Video</td>\n",
       "      <td>NaN</td>\n",
       "      <td>1999</td>\n",
       "      <td>NaN</td>\n",
       "      <td>0</td>\n",
       "    </tr>\n",
       "  </tbody>\n",
       "</table>\n",
       "</div>"
      ],
      "text/plain": [
       "   item_id  user_id  rating   timestamp model_attr                category  \\\n",
       "0        0        0     5.0  1999-06-13     Female  Portable Audio & Video   \n",
       "1        0        1     5.0  1999-06-14     Female  Portable Audio & Video   \n",
       "2        0        2     3.0  1999-06-17     Female  Portable Audio & Video   \n",
       "3        0        3     1.0  1999-07-01     Female  Portable Audio & Video   \n",
       "4        0        4     2.0  1999-07-06     Female  Portable Audio & Video   \n",
       "\n",
       "  brand  year user_attr  split  \n",
       "0   NaN  1999       NaN      0  \n",
       "1   NaN  1999       NaN      0  \n",
       "2   NaN  1999       NaN      0  \n",
       "3   NaN  1999       NaN      0  \n",
       "4   NaN  1999       NaN      0  "
      ]
     },
     "execution_count": 3,
     "metadata": {},
     "output_type": "execute_result"
    }
   ],
   "source": [
    "data.head()\n"
   ]
  },
  {
   "cell_type": "code",
   "execution_count": 4,
   "id": "2a88642a",
   "metadata": {},
   "outputs": [
    {
     "data": {
      "text/html": [
       "<div>\n",
       "<style scoped>\n",
       "    .dataframe tbody tr th:only-of-type {\n",
       "        vertical-align: middle;\n",
       "    }\n",
       "\n",
       "    .dataframe tbody tr th {\n",
       "        vertical-align: top;\n",
       "    }\n",
       "\n",
       "    .dataframe thead th {\n",
       "        text-align: right;\n",
       "    }\n",
       "</style>\n",
       "<table border=\"1\" class=\"dataframe\">\n",
       "  <thead>\n",
       "    <tr style=\"text-align: right;\">\n",
       "      <th></th>\n",
       "      <th>item_id</th>\n",
       "      <th>user_id</th>\n",
       "      <th>rating</th>\n",
       "      <th>timestamp</th>\n",
       "      <th>model_attr</th>\n",
       "      <th>category</th>\n",
       "      <th>brand</th>\n",
       "      <th>year</th>\n",
       "      <th>user_attr</th>\n",
       "      <th>split</th>\n",
       "    </tr>\n",
       "  </thead>\n",
       "  <tbody>\n",
       "    <tr>\n",
       "      <th>1292949</th>\n",
       "      <td>9478</td>\n",
       "      <td>1157628</td>\n",
       "      <td>1.0</td>\n",
       "      <td>2018-09-26</td>\n",
       "      <td>Female</td>\n",
       "      <td>Headphones</td>\n",
       "      <td>Etre Jeune</td>\n",
       "      <td>2017</td>\n",
       "      <td>NaN</td>\n",
       "      <td>0</td>\n",
       "    </tr>\n",
       "    <tr>\n",
       "      <th>1292950</th>\n",
       "      <td>9435</td>\n",
       "      <td>1157629</td>\n",
       "      <td>5.0</td>\n",
       "      <td>2018-09-26</td>\n",
       "      <td>Female</td>\n",
       "      <td>Computers &amp; Accessories</td>\n",
       "      <td>NaN</td>\n",
       "      <td>2017</td>\n",
       "      <td>NaN</td>\n",
       "      <td>0</td>\n",
       "    </tr>\n",
       "    <tr>\n",
       "      <th>1292951</th>\n",
       "      <td>9305</td>\n",
       "      <td>1157630</td>\n",
       "      <td>3.0</td>\n",
       "      <td>2018-09-26</td>\n",
       "      <td>Female</td>\n",
       "      <td>Computers &amp; Accessories</td>\n",
       "      <td>NaN</td>\n",
       "      <td>2016</td>\n",
       "      <td>NaN</td>\n",
       "      <td>0</td>\n",
       "    </tr>\n",
       "    <tr>\n",
       "      <th>1292952</th>\n",
       "      <td>9303</td>\n",
       "      <td>1157631</td>\n",
       "      <td>5.0</td>\n",
       "      <td>2018-09-29</td>\n",
       "      <td>Male</td>\n",
       "      <td>Headphones</td>\n",
       "      <td>NaN</td>\n",
       "      <td>2018</td>\n",
       "      <td>NaN</td>\n",
       "      <td>0</td>\n",
       "    </tr>\n",
       "    <tr>\n",
       "      <th>1292953</th>\n",
       "      <td>9478</td>\n",
       "      <td>1157632</td>\n",
       "      <td>1.0</td>\n",
       "      <td>2018-10-01</td>\n",
       "      <td>Female</td>\n",
       "      <td>Headphones</td>\n",
       "      <td>Etre Jeune</td>\n",
       "      <td>2017</td>\n",
       "      <td>Female</td>\n",
       "      <td>0</td>\n",
       "    </tr>\n",
       "  </tbody>\n",
       "</table>\n",
       "</div>"
      ],
      "text/plain": [
       "         item_id  user_id  rating   timestamp model_attr  \\\n",
       "1292949     9478  1157628     1.0  2018-09-26     Female   \n",
       "1292950     9435  1157629     5.0  2018-09-26     Female   \n",
       "1292951     9305  1157630     3.0  2018-09-26     Female   \n",
       "1292952     9303  1157631     5.0  2018-09-29       Male   \n",
       "1292953     9478  1157632     1.0  2018-10-01     Female   \n",
       "\n",
       "                        category       brand  year user_attr  split  \n",
       "1292949               Headphones  Etre Jeune  2017       NaN      0  \n",
       "1292950  Computers & Accessories         NaN  2017       NaN      0  \n",
       "1292951  Computers & Accessories         NaN  2016       NaN      0  \n",
       "1292952               Headphones         NaN  2018       NaN      0  \n",
       "1292953               Headphones  Etre Jeune  2017    Female      0  "
      ]
     },
     "execution_count": 4,
     "metadata": {},
     "output_type": "execute_result"
    }
   ],
   "source": [
    "data.tail()"
   ]
  },
  {
   "cell_type": "code",
   "execution_count": 5,
   "id": "6fe4b056",
   "metadata": {},
   "outputs": [
    {
     "name": "stdout",
     "output_type": "stream",
     "text": [
      "<class 'pandas.core.frame.DataFrame'>\n",
      "RangeIndex: 1292954 entries, 0 to 1292953\n",
      "Data columns (total 10 columns):\n",
      " #   Column      Non-Null Count    Dtype  \n",
      "---  ------      --------------    -----  \n",
      " 0   item_id     1292954 non-null  int64  \n",
      " 1   user_id     1292954 non-null  int64  \n",
      " 2   rating      1292954 non-null  float64\n",
      " 3   timestamp   1292954 non-null  object \n",
      " 4   model_attr  1292954 non-null  object \n",
      " 5   category    1292954 non-null  object \n",
      " 6   brand       331120 non-null   object \n",
      " 7   year        1292954 non-null  int64  \n",
      " 8   user_attr   174124 non-null   object \n",
      " 9   split       1292954 non-null  int64  \n",
      "dtypes: float64(1), int64(4), object(5)\n",
      "memory usage: 98.6+ MB\n"
     ]
    }
   ],
   "source": [
    "data.info()\n"
   ]
  },
  {
   "cell_type": "code",
   "execution_count": 6,
   "id": "1cf27dcf",
   "metadata": {},
   "outputs": [
    {
     "data": {
      "text/plain": [
       "(1292954, 10)"
      ]
     },
     "execution_count": 6,
     "metadata": {},
     "output_type": "execute_result"
    }
   ],
   "source": [
    "data.shape"
   ]
  },
  {
   "cell_type": "code",
   "execution_count": 7,
   "id": "907f0a6b",
   "metadata": {},
   "outputs": [
    {
     "data": {
      "text/plain": [
       "0         1999-06-13\n",
       "1         1999-06-14\n",
       "2         1999-06-17\n",
       "3         1999-07-01\n",
       "4         1999-07-06\n",
       "             ...    \n",
       "1292949   2018-09-26\n",
       "1292950   2018-09-26\n",
       "1292951   2018-09-26\n",
       "1292952   2018-09-29\n",
       "1292953   2018-10-01\n",
       "Name: timestamp, Length: 1292954, dtype: datetime64[ns]"
      ]
     },
     "execution_count": 7,
     "metadata": {},
     "output_type": "execute_result"
    }
   ],
   "source": [
    "# We can see that the dataset contains 5 columns and 10000 rows.    \n",
    "\n",
    "# The columns are as follows:\n",
    "\n",
    "# 1. User ID\n",
    "\n",
    "# 2. Product ID\n",
    "\n",
    "# 3. Rating\n",
    "\n",
    "# 4. Timestamp\n",
    "\n",
    "# 5. Category\n",
    "\n",
    "# The data types of the columns are as follows:\n",
    "\n",
    "# 1. User ID - int64\n",
    "\n",
    "# 2. Product ID - object\n",
    "\n",
    "# 3. Rating - int64\n",
    "\n",
    "# 4. Timestamp - int64\n",
    "\n",
    "# 5. Category - object\n",
    "\n",
    "# We can see that the columns User ID and Rating are of int64 data type, while the columns Product ID and Category are of object data type.\n",
    "\n",
    "# We can also see that there are no null values in the dataset.\n",
    "\n",
    "# We can also see that the column Timestamp is of int64 data type, but it is actually a timestamp.\n",
    "\n",
    "# We can convert it to a timestamp using the following code:\n",
    "\n",
    "from datetime import datetime\n",
    "\n",
    "pd.to_datetime(data['timestamp'])"
   ]
  },
  {
   "cell_type": "code",
   "execution_count": 9,
   "id": "75e4a5c5",
   "metadata": {},
   "outputs": [],
   "source": [
    "data['brand'] = data['brand'].astype(str)"
   ]
  },
  {
   "cell_type": "code",
   "execution_count": 10,
   "id": "7f69cfc5",
   "metadata": {},
   "outputs": [],
   "source": [
    "data['category'] = data['category'].astype(str)"
   ]
  },
  {
   "cell_type": "code",
   "execution_count": 11,
   "id": "d84d1802",
   "metadata": {},
   "outputs": [],
   "source": [
    "data['timestamp'] = pd.to_datetime(data['timestamp'])"
   ]
  },
  {
   "cell_type": "code",
   "execution_count": 12,
   "id": "5ee4e98c",
   "metadata": {},
   "outputs": [],
   "source": [
    "data['rating'] = data['rating'].astype(float)"
   ]
  },
  {
   "cell_type": "code",
   "execution_count": 13,
   "id": "1db701ac",
   "metadata": {},
   "outputs": [],
   "source": [
    "data['user_id'] = data['user_id'].astype(str)"
   ]
  },
  {
   "cell_type": "code",
   "execution_count": 14,
   "id": "a2b6853a",
   "metadata": {},
   "outputs": [],
   "source": [
    "data['item_id'] = data['item_id'].astype(str)"
   ]
  },
  {
   "cell_type": "code",
   "execution_count": 15,
   "id": "bcece0de",
   "metadata": {},
   "outputs": [
    {
     "data": {
      "text/html": [
       "<div>\n",
       "<style scoped>\n",
       "    .dataframe tbody tr th:only-of-type {\n",
       "        vertical-align: middle;\n",
       "    }\n",
       "\n",
       "    .dataframe tbody tr th {\n",
       "        vertical-align: top;\n",
       "    }\n",
       "\n",
       "    .dataframe thead th {\n",
       "        text-align: right;\n",
       "    }\n",
       "</style>\n",
       "<table border=\"1\" class=\"dataframe\">\n",
       "  <thead>\n",
       "    <tr style=\"text-align: right;\">\n",
       "      <th></th>\n",
       "      <th>rating</th>\n",
       "      <th>timestamp</th>\n",
       "      <th>year</th>\n",
       "      <th>split</th>\n",
       "    </tr>\n",
       "  </thead>\n",
       "  <tbody>\n",
       "    <tr>\n",
       "      <th>count</th>\n",
       "      <td>1.292954e+06</td>\n",
       "      <td>1292954</td>\n",
       "      <td>1.292954e+06</td>\n",
       "      <td>1.292954e+06</td>\n",
       "    </tr>\n",
       "    <tr>\n",
       "      <th>mean</th>\n",
       "      <td>4.051482e+00</td>\n",
       "      <td>2015-06-18 11:30:34.851355904</td>\n",
       "      <td>2.012938e+03</td>\n",
       "      <td>1.747587e-01</td>\n",
       "    </tr>\n",
       "    <tr>\n",
       "      <th>min</th>\n",
       "      <td>1.000000e+00</td>\n",
       "      <td>1999-06-13 00:00:00</td>\n",
       "      <td>1.999000e+03</td>\n",
       "      <td>0.000000e+00</td>\n",
       "    </tr>\n",
       "    <tr>\n",
       "      <th>25%</th>\n",
       "      <td>4.000000e+00</td>\n",
       "      <td>2014-09-06 00:00:00</td>\n",
       "      <td>2.012000e+03</td>\n",
       "      <td>0.000000e+00</td>\n",
       "    </tr>\n",
       "    <tr>\n",
       "      <th>50%</th>\n",
       "      <td>5.000000e+00</td>\n",
       "      <td>2015-10-19 00:00:00</td>\n",
       "      <td>2.014000e+03</td>\n",
       "      <td>0.000000e+00</td>\n",
       "    </tr>\n",
       "    <tr>\n",
       "      <th>75%</th>\n",
       "      <td>5.000000e+00</td>\n",
       "      <td>2016-10-19 00:00:00</td>\n",
       "      <td>2.015000e+03</td>\n",
       "      <td>0.000000e+00</td>\n",
       "    </tr>\n",
       "    <tr>\n",
       "      <th>max</th>\n",
       "      <td>5.000000e+00</td>\n",
       "      <td>2018-10-01 00:00:00</td>\n",
       "      <td>2.018000e+03</td>\n",
       "      <td>2.000000e+00</td>\n",
       "    </tr>\n",
       "    <tr>\n",
       "      <th>std</th>\n",
       "      <td>1.379732e+00</td>\n",
       "      <td>NaN</td>\n",
       "      <td>2.643513e+00</td>\n",
       "      <td>5.506810e-01</td>\n",
       "    </tr>\n",
       "  </tbody>\n",
       "</table>\n",
       "</div>"
      ],
      "text/plain": [
       "             rating                      timestamp          year         split\n",
       "count  1.292954e+06                        1292954  1.292954e+06  1.292954e+06\n",
       "mean   4.051482e+00  2015-06-18 11:30:34.851355904  2.012938e+03  1.747587e-01\n",
       "min    1.000000e+00            1999-06-13 00:00:00  1.999000e+03  0.000000e+00\n",
       "25%    4.000000e+00            2014-09-06 00:00:00  2.012000e+03  0.000000e+00\n",
       "50%    5.000000e+00            2015-10-19 00:00:00  2.014000e+03  0.000000e+00\n",
       "75%    5.000000e+00            2016-10-19 00:00:00  2.015000e+03  0.000000e+00\n",
       "max    5.000000e+00            2018-10-01 00:00:00  2.018000e+03  2.000000e+00\n",
       "std    1.379732e+00                            NaN  2.643513e+00  5.506810e-01"
      ]
     },
     "execution_count": 15,
     "metadata": {},
     "output_type": "execute_result"
    }
   ],
   "source": [
    "data.describe()"
   ]
  },
  {
   "cell_type": "code",
   "execution_count": 16,
   "id": "891543bc",
   "metadata": {},
   "outputs": [
    {
     "data": {
      "text/plain": [
       "item_id          9560\n",
       "user_id       1157633\n",
       "rating              5\n",
       "timestamp        6354\n",
       "model_attr          3\n",
       "category           10\n",
       "brand              51\n",
       "year               20\n",
       "user_attr           2\n",
       "split               3\n",
       "dtype: int64"
      ]
     },
     "execution_count": 16,
     "metadata": {},
     "output_type": "execute_result"
    }
   ],
   "source": [
    "data.nunique()"
   ]
  },
  {
   "cell_type": "code",
   "execution_count": 18,
   "id": "a143e22d",
   "metadata": {},
   "outputs": [
    {
     "data": {
      "text/plain": [
       "np.int64(0)"
      ]
     },
     "execution_count": 18,
     "metadata": {},
     "output_type": "execute_result"
    }
   ],
   "source": [
    "data.duplicated().sum()"
   ]
  },
  {
   "cell_type": "code",
   "execution_count": 19,
   "id": "2b28e112",
   "metadata": {},
   "outputs": [
    {
     "data": {
      "text/plain": [
       "item_id             0\n",
       "user_id             0\n",
       "rating              0\n",
       "timestamp           0\n",
       "model_attr          0\n",
       "category            0\n",
       "brand               0\n",
       "year                0\n",
       "user_attr     1118830\n",
       "split               0\n",
       "dtype: int64"
      ]
     },
     "execution_count": 19,
     "metadata": {},
     "output_type": "execute_result"
    }
   ],
   "source": [
    "data.isnull().sum()"
   ]
  },
  {
   "cell_type": "code",
   "execution_count": 20,
   "id": "d0744120",
   "metadata": {},
   "outputs": [],
   "source": [
    "data.dropna(inplace=True)\n"
   ]
  },
  {
   "cell_type": "code",
   "execution_count": 21,
   "id": "b8660b5d",
   "metadata": {},
   "outputs": [
    {
     "data": {
      "text/plain": [
       "item_id       0\n",
       "user_id       0\n",
       "rating        0\n",
       "timestamp     0\n",
       "model_attr    0\n",
       "category      0\n",
       "brand         0\n",
       "year          0\n",
       "user_attr     0\n",
       "split         0\n",
       "dtype: int64"
      ]
     },
     "execution_count": 21,
     "metadata": {},
     "output_type": "execute_result"
    }
   ],
   "source": [
    "data.isnull().sum()"
   ]
  },
  {
   "cell_type": "code",
   "execution_count": 22,
   "id": "83f0390f",
   "metadata": {},
   "outputs": [
    {
     "data": {
      "text/plain": [
       "rating\n",
       "5.0    107593\n",
       "4.0     30104\n",
       "3.0     14593\n",
       "1.0     12652\n",
       "2.0      9182\n",
       "Name: count, dtype: int64"
      ]
     },
     "execution_count": 22,
     "metadata": {},
     "output_type": "execute_result"
    }
   ],
   "source": [
    "data.rating.value_counts()"
   ]
  },
  {
   "cell_type": "code",
   "execution_count": 25,
   "id": "548f17c7",
   "metadata": {},
   "outputs": [
    {
     "data": {
      "text/plain": [
       "<bound method Series.sort_index of year\n",
       "2015    46891\n",
       "2016    43907\n",
       "2014    25475\n",
       "2017    24753\n",
       "2013    12355\n",
       "2018     8874\n",
       "2012     4357\n",
       "2011     2679\n",
       "2010     1717\n",
       "2009     1220\n",
       "2008      834\n",
       "2007      525\n",
       "2006      196\n",
       "2005      149\n",
       "2004       87\n",
       "2003       55\n",
       "2002       26\n",
       "2001       18\n",
       "2000        5\n",
       "1999        1\n",
       "Name: count, dtype: int64>"
      ]
     },
     "execution_count": 25,
     "metadata": {},
     "output_type": "execute_result"
    }
   ],
   "source": [
    "# what was the best year of sales\n",
    "\n",
    "data['year'] = pd.DatetimeIndex(data['timestamp']).year\n",
    "\n",
    "data['year'].value_counts().sort_index"
   ]
  },
  {
   "cell_type": "code",
   "execution_count": 27,
   "id": "d2560ce6",
   "metadata": {},
   "outputs": [
    {
     "data": {
      "text/plain": [
       "month\n",
       "1     18762\n",
       "2     15033\n",
       "3     14853\n",
       "4     13359\n",
       "5     13258\n",
       "6     12970\n",
       "7     14439\n",
       "8     14789\n",
       "9     13155\n",
       "10    12960\n",
       "11    13412\n",
       "12    17134\n",
       "Name: count, dtype: int64"
      ]
     },
     "execution_count": 27,
     "metadata": {},
     "output_type": "execute_result"
    }
   ],
   "source": [
    "# what was the best month of sales\n",
    "\n",
    "data['month'] = pd.DatetimeIndex(data['timestamp']).month\n",
    "\n",
    "data['month'].value_counts().sort_index()\n",
    "\n"
   ]
  },
  {
   "cell_type": "code",
   "execution_count": 28,
   "id": "1c27f057",
   "metadata": {},
   "outputs": [
    {
     "data": {
      "text/plain": [
       "item_id       0\n",
       "user_id       0\n",
       "rating        0\n",
       "timestamp     0\n",
       "model_attr    0\n",
       "category      0\n",
       "brand         0\n",
       "year          0\n",
       "user_attr     0\n",
       "split         0\n",
       "month         0\n",
       "dtype: int64"
      ]
     },
     "execution_count": 28,
     "metadata": {},
     "output_type": "execute_result"
    }
   ],
   "source": [
    "# drop all null values\n",
    "\n",
    "data.dropna(inplace=True)\n",
    "\n",
    "# check for missing values\n",
    "\n",
    "data.isnull().sum()"
   ]
  },
  {
   "cell_type": "code",
   "execution_count": null,
   "id": "3e50ff08",
   "metadata": {},
   "outputs": [],
   "source": []
  }
 ],
 "metadata": {
  "kernelspec": {
   "display_name": "base",
   "language": "python",
   "name": "python3"
  },
  "language_info": {
   "codemirror_mode": {
    "name": "ipython",
    "version": 3
   },
   "file_extension": ".py",
   "mimetype": "text/x-python",
   "name": "python",
   "nbconvert_exporter": "python",
   "pygments_lexer": "ipython3",
   "version": "3.13.5"
  }
 },
 "nbformat": 4,
 "nbformat_minor": 5
}
